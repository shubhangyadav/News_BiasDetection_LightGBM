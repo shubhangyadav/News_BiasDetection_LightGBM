{
 "cells": [
  {
   "cell_type": "code",
   "execution_count": 5,
   "metadata": {},
   "outputs": [],
   "source": [
    "# import necessary libraries\n",
    "import numpy as np\n",
    "import pandas as pd\n",
    "import lightgbm as lgb\n",
    "from sklearn.model_selection import train_test_split\n",
    "from sklearn.metrics import mean_squared_error,roc_auc_score,precision_score\n",
    "from sklearn.preprocessing import MultiLabelBinarizer\n",
    "from sklearn.feature_extraction.text import TfidfVectorizer\n",
    "import bleach\n",
    "\n",
    "# datasets library \n",
    "# contains 'hyperpartisan_news_detection' dataset\n",
    "import datasets\n",
    "from datasets import list_datasets, load_dataset, list_metrics, load_metric\n",
    "datasets_list = list_datasets()\n",
    "\n",
    "# OneVsRest LightGBM with Focal Loss\n",
    "from OneVsRestLightGBMWithCustomizedLoss import *\n",
    "from FocalLoss import FocalLoss\n",
    "\n",
    "# text resources\n",
    "import re\n",
    "import nltk\n",
    "#nltk.download('stopwords')\n",
    "from nltk.corpus import stopwords\n",
    "#nltk.download('punkt')"
   ]
  },
  {
   "cell_type": "code",
   "execution_count": 6,
   "metadata": {},
   "outputs": [
    {
     "name": "stderr",
     "output_type": "stream",
     "text": [
      "Reusing dataset hyperpartisan_news_detection (/Users/shubhang/.cache/huggingface/datasets/hyperpartisan_news_detection/bypublisher/1.0.0/7f4215b0474950ddf516e806400ab81d098b3da3b3a919a13cd1a4cf2c677012)\n"
     ]
    },
    {
     "data": {
      "text/plain": [
       "DatasetDict({\n",
       "    train: Dataset({\n",
       "        features: ['text', 'title', 'hyperpartisan', 'url', 'published_at', 'bias'],\n",
       "        num_rows: 600000\n",
       "    })\n",
       "    validation: Dataset({\n",
       "        features: ['text', 'title', 'hyperpartisan', 'url', 'published_at', 'bias'],\n",
       "        num_rows: 600000\n",
       "    })\n",
       "})"
      ]
     },
     "execution_count": 6,
     "metadata": {},
     "output_type": "execute_result"
    }
   ],
   "source": [
    "# importing the dataset\n",
    "dataset  = datasets.load_dataset('hyperpartisan_news_detection', 'bypublisher')\n",
    "dataset"
   ]
  },
  {
   "cell_type": "code",
   "execution_count": 7,
   "metadata": {},
   "outputs": [
    {
     "name": "stdout",
     "output_type": "stream",
     "text": [
      "Size of the training set:  (600000, 6)\n",
      "Example text: \n",
      " <p>May 1966. &amp;#160;Mitt Romney is just finishing his first&#8212;and only&#8212;year at Stanford.&amp;#160; I&#8217;m a 32-year-old ex-Strategic Air Command navigator and intelligence officer, now an associate professor in Stanford&#8217;s English Department and something of an anti-Vietnam War activist.</p> \n",
      "\n",
      "<p>About a quarter of a million young American men are already being abducted each year to fight the rapidly-escalating Vietnam War. &amp;#160;Many college students, however, are protected by their 2S student deferments, which blatantly discriminate against all those millions of other young men unable to afford college.&amp;#160; As if this privileging of the relatively privileged were not sufficient, an outcry about &#8220;inequity&#8221; arises from administrations of some elite universities.&amp;#160; Since the 2S deferment is contingent on relatively high class rank (meaning, of course, academic class rank), they argue that this unfairly discriminates against some of the &#8220;best&#8221; students, i. e., all those attending schools like Stanford.&amp;#160; A man in the bottom quarter at an elite university might end up being drafted, even though he might be more &#8220;intelligent&#8221; than a man in the top quarter of some state college.</p> \n",
      "\n",
      "<p>To address such claims of injustice, the Selective Service was rolling out that month the College Qualification Test, a.k.a. the Selective Service Examination, an &#8220;objective&#8221; assessment of each test taker&#8217;s verbal and mathematical skills, to be used by local draft boards, together with college grades and class rank, to determine who was entitled to that precious 2S deferment and who should be shipped off to Vietnam.&amp;#160;&amp;#160; But this deferment test actually spotlighted the true inequities of the draft.&amp;#160; It also offered an opportunity for direct action against the war itself, right on the college campus.</p> \n",
      "\n",
      "<p>One of the many myths that have buried the true history of the Vietnam War is that the anti-war movement was motivated by selfish desire, especially among college students, to avoid the draft (a view that conveniently ignores the movement&#8217;s throngs of female participants, whose gender automatically exempted them from the draft).&amp;#160; Quite to the contrary, students demonstrating against the draft deferment tests were specifically undermining and targeting their own privileges and exemptions, which, as they passionately argued, came at the expense of poor and working class people.&amp;#160; At Stanford, a number of people actually <a href=\"\" type=\"internal\" />disrupted the test.&amp;#160; The young men involved thus proved that their goal was not to avoid the draft but to end it, since they had been explicitly warned that their actions would jeopardize their&amp;#160;own deferments.&amp;#160; When students filed in to take the Selective Service test, other demonstrators handed them the SDS &#8220;alternative test&#8221; on the history of U.S.-Vietnam relations.&amp;#160; About ninety students organized a sit-in in the President&#8217;s office.&amp;#160; In a manifesto issued from the sit-in they denounced their own privileged status: &#8220;We oppose the administration of the Selective Service Examination . . . because it discriminates against those who by virtue of economic deprivation are at a severe disadvantage in taking such a test. . . . [The] less privileged, Negroes, Spanish-Americans, and poor whites, must fight a war in the name of principles such as freedom and equality of opportunity which their own nation has denied them.&#8221;&amp;#160; &#8220;Conscription,&#8221; they declared, has throughout American history &#8220;invariably been biased in favor of the wealthy and privileged.&#8221;</p> \n",
      "\n",
      "<p>Enter young Mitt Romney, right on cue, waving a sign denouncing the anti-war students.&amp;#160; &amp;#160;He, like his fellow almost all-male participants in this pro-war demonstration, fervently argued in support of the war and the draft.&amp;#160; But not, of course, for himself.</p> \n",
      "\n",
      "<p>When Mitt enrolled at Stanford back in the spring of 1965, the official and overt U.S. war (as distinct from the previous forms of proxy, clandestine, and &#8220;adviser&#8221; warfare waged in Vietnam for more than a decade) had just begun.&amp;#160; Operation Rolling Thunder, the sustained U.S. bombing of the north, had started on March 2.&amp;#160; The first officially acknowledged U.S. combat units were the Marines who went ashore at Da Nang on March 8 (joining the 24,000 U.S. military personnel already fighting in Vietnam).&amp;#160;&amp;#160; Draftees were not yet being used in combat.&amp;#160;&amp;#160; So Mitt and his dad clearly intended the fall of 1965 to be the beginning of a fine four-year career at Stanford for the young man.&amp;#160; But Mitt&#8217;s last month as a Stanford student was May 1966.&amp;#160; Why?</p> \n",
      "\n",
      "<p>Although the Selective Service Exam radically reduced the chances of college men, especially those with the test-taking skills of most Stanford students, to be conscripted into the Vietnam War, it was no guarantee of long-lasting deferment.&amp;#160; There were other, surer, escapes from the Vietnam nightmare.&amp;#160;&amp;#160; One of the very best was the ministry.&amp;#160; In 1966, young men flooded into divinity schools, embarking on careers to be ministers, priests, and rabbis.&amp;#160; The Mormons had an even better deal than most religions, because The Church of Latter-Day Saints required each and every one of its young men to become, for at least two years, a &#8220;minister of religion.&#8221;&amp;#160; &amp;#160;Thus all Mormon young men could claim deferments as ministers.&amp;#160;&amp;#160; When the inequity of this arrangement became too blatant, the Selective Service entered into an agreement with the LDS that required the church to specify just one &#8220;minister&#8221; for each geographical district.&amp;#160; Since there were relatively few Mormons in Michigan, and Governor George Romney had considerable influence in the church, Mitt quickly received an official appointment as a Mormon &#8220;minister of religion,&#8221; consecrated by a draft deferment from the Selective Service. &amp;#160;So instead of returning to Stanford, Mitt went off to become a Mormon missionary in France, where he would spend the next two and a half years&#8212;while Vietnam became a slaughterhouse for the Vietnamese and many Americans drafted to slaughter them.</p> \n",
      "\n",
      "<p>So who says that Mitt Romney is inconsistent?&amp;#160; After all, what may have been his first recorded public political act was supporting the draft for ordinary Americans, forcing them to participate in a war waged in the interest of his own class.</p> \n",
      "\n",
      "<p>H. Bruce Franklin is the&amp;#160;John Cotton Dana Professor of English and American Studies at&amp;#160;Rutgers&amp;#160;University. His most recent book is <a href=\"\" type=\"internal\">The Most Important Fish in the Sea:&amp;#160;Menhaden&amp;#160;and America</a>.</p> \n",
      "\n",
      "<p>This essay originally appeared in the print issue of CounterPunch.</p>\n",
      "Length:  1015\n",
      "Hyperpartisan:  True\n",
      "Bias:  4\n"
     ]
    }
   ],
   "source": [
    "# dataset details\n",
    "print(\"Size of the training set: \", dataset['train'].shape)\n",
    "\n",
    "# dataset examples\n",
    "print(\"Example text: \\n\", dataset['train'][69]['text'])\n",
    "print(\"Length: \", len(dataset['train'][69]['text'].split(\" \")))\n",
    "print(\"Hyperpartisan: \",  dataset['train'][69]['hyperpartisan'])\n",
    "print(\"Bias: \",  dataset['train'][69]['bias'])"
   ]
  },
  {
   "cell_type": "code",
   "execution_count": 8,
   "metadata": {},
   "outputs": [],
   "source": [
    "# text preprocessing function\n",
    "def text_preprocess(text):\n",
    "    REPLACE_BY_SPACE_RE = re.compile('[/(){}\\[\\]\\|@,;]')\n",
    "    BAD_SYMBOLS_RE = re.compile('[^0-9a-z #+_]')\n",
    "    STOPWORDS = set(stopwords.words('english'))\n",
    "    REPLACE_IP_ADDRESS = re.compile(r'\\b(?:[0-9]{1,3}\\.){3}[0-9]{1,3}\\b')\n",
    "    text = bleach.clean(text,strip=True) # bleach clean\n",
    "    text = text.replace('<p>', '')\n",
    "    text = text.replace('</p>', '')\n",
    "    text = text.replace('\\n', '')\n",
    "    text = text.replace('&amp;#160;', '')\n",
    "    text = re.sub(r'^https?:\\/\\/.*[\\r\\n]*', '', text, flags=re.MULTILINE)\n",
    "    text = text.replace('\\n', ' ').lower() # lowercase text\n",
    "    text = REPLACE_IP_ADDRESS.sub('', text)\n",
    "    text = REPLACE_BY_SPACE_RE.sub(' ',text) # replace REPLACE_BY_SPACE_RE symbols by space in text\n",
    "    text = BAD_SYMBOLS_RE.sub('',text) # delete symbols which are in BAD_SYMBOLS_RE from text\n",
    "    text = ' '.join([w for w in text.split() if not w in STOPWORDS]) # delete stopwords from text\n",
    "    return text\n",
    "\n",
    "# generating tf-idf features from text\n",
    "def tfidf_features(X_train, X_test):\n",
    "    \"\"\"\n",
    "        X_train, X_test — samples        \n",
    "        return TF-IDF vectorized representation of each sample and vocabulary\n",
    "    \"\"\"\n",
    "    tfidf_vectorizer = TfidfVectorizer(ngram_range=(1,2), max_df=0.9, min_df=5, token_pattern='(\\S+)')\n",
    "\n",
    "    X_train_tfidf = tfidf_vectorizer.fit_transform(X_train)\n",
    "    X_test_tfidf = tfidf_vectorizer.transform(X_test)\n",
    "    \n",
    "    return X_train_tfidf, X_test_tfidf, tfidf_vectorizer.vocabulary_,tfidf_vectorizer"
   ]
  },
  {
   "cell_type": "code",
   "execution_count": 9,
   "metadata": {},
   "outputs": [],
   "source": [
    "# picking elements from training data\n",
    "train_size = 50000\n",
    "train_indices = np.random.randint(0, len(dataset['train']), train_size)\n",
    "\n",
    "train_dataset = dataset['train'].select(train_indices)"
   ]
  },
  {
   "cell_type": "code",
   "execution_count": 10,
   "metadata": {},
   "outputs": [
    {
     "data": {
      "text/plain": [
       "Dataset({\n",
       "    features: ['text', 'title', 'hyperpartisan', 'url', 'published_at', 'bias'],\n",
       "    num_rows: 50000\n",
       "})"
      ]
     },
     "execution_count": 10,
     "metadata": {},
     "output_type": "execute_result"
    }
   ],
   "source": [
    "# training set details\n",
    "train_dataset"
   ]
  },
  {
   "cell_type": "markdown",
   "metadata": {},
   "source": [
    "#### This particular dataset contains two columns of interest.\n",
    "#### ---------------------------------------------------------------------------------------\n",
    "#### 1. Hyperpartisan: Indicates whether a news article is biased or not\n",
    "#### 2. Bias: Indicates the bias level of the article as follows-\n",
    "\n",
    "#### If bias value = 0, bias: right\n",
    "#### If bias value = 1, bias: right-center\n",
    "#### If bias value = 2, bias: least\n",
    "#### If bias value = 3, bias: left-center\n",
    "#### If bias value = 4, bias: left\n",
    "#### ---------------------------------------------------------------------------------------\n",
    "#### Reference- https://huggingface.co/datasets/hyperpartisan_news_detection\n",
    "#### ---------------------------------------------------------------------------------------\n",
    "#### Here, we will focus on predicting the bias level of an incoming article."
   ]
  },
  {
   "cell_type": "code",
   "execution_count": 11,
   "metadata": {},
   "outputs": [
    {
     "data": {
      "text/html": [
       "<div>\n",
       "<style scoped>\n",
       "    .dataframe tbody tr th:only-of-type {\n",
       "        vertical-align: middle;\n",
       "    }\n",
       "\n",
       "    .dataframe tbody tr th {\n",
       "        vertical-align: top;\n",
       "    }\n",
       "\n",
       "    .dataframe thead th {\n",
       "        text-align: right;\n",
       "    }\n",
       "</style>\n",
       "<table border=\"1\" class=\"dataframe\">\n",
       "  <thead>\n",
       "    <tr style=\"text-align: right;\">\n",
       "      <th></th>\n",
       "      <th>title</th>\n",
       "      <th>text</th>\n",
       "      <th>hyperpartisan</th>\n",
       "      <th>bias</th>\n",
       "    </tr>\n",
       "  </thead>\n",
       "  <tbody>\n",
       "    <tr>\n",
       "      <th>0</th>\n",
       "      <td>How Hurricane Harvey will ripple through the U...</td>\n",
       "      <td>&lt;p&gt;Hurricane Harvey will distort measures of t...</td>\n",
       "      <td>True</td>\n",
       "      <td>0</td>\n",
       "    </tr>\n",
       "    <tr>\n",
       "      <th>1</th>\n",
       "      <td>Hurricane Earl Weakens to Tropical Storm After...</td>\n",
       "      <td>&lt;p&gt;A storm system that had been a hurricane wh...</td>\n",
       "      <td>False</td>\n",
       "      <td>3</td>\n",
       "    </tr>\n",
       "    <tr>\n",
       "      <th>2</th>\n",
       "      <td>Manhunt On for Revenge-Seeking Ex-LAPD Officer...</td>\n",
       "      <td>&lt;p&gt;Thousands of police officers in Southern Ca...</td>\n",
       "      <td>True</td>\n",
       "      <td>4</td>\n",
       "    </tr>\n",
       "    <tr>\n",
       "      <th>3</th>\n",
       "      <td>US judge seeks internal communications in Turk...</td>\n",
       "      <td>&lt;p&gt;NEW YORK (AP) &amp;#8212; A federal judge wants...</td>\n",
       "      <td>False</td>\n",
       "      <td>2</td>\n",
       "    </tr>\n",
       "    <tr>\n",
       "      <th>4</th>\n",
       "      <td>How To Stick With Emerging Markets If The Doll...</td>\n",
       "      <td>&lt;p&gt;No, it is not a coincidence. The U.S. Dolla...</td>\n",
       "      <td>True</td>\n",
       "      <td>0</td>\n",
       "    </tr>\n",
       "  </tbody>\n",
       "</table>\n",
       "</div>"
      ],
      "text/plain": [
       "                                               title  \\\n",
       "0  How Hurricane Harvey will ripple through the U...   \n",
       "1  Hurricane Earl Weakens to Tropical Storm After...   \n",
       "2  Manhunt On for Revenge-Seeking Ex-LAPD Officer...   \n",
       "3  US judge seeks internal communications in Turk...   \n",
       "4  How To Stick With Emerging Markets If The Doll...   \n",
       "\n",
       "                                                text  hyperpartisan  bias  \n",
       "0  <p>Hurricane Harvey will distort measures of t...           True     0  \n",
       "1  <p>A storm system that had been a hurricane wh...          False     3  \n",
       "2  <p>Thousands of police officers in Southern Ca...           True     4  \n",
       "3  <p>NEW YORK (AP) &#8212; A federal judge wants...          False     2  \n",
       "4  <p>No, it is not a coincidence. The U.S. Dolla...           True     0  "
      ]
     },
     "execution_count": 11,
     "metadata": {},
     "output_type": "execute_result"
    }
   ],
   "source": [
    "# retaining necessary columns\n",
    "df = pd.DataFrame(train_dataset)\n",
    "df = df[['title', 'text','hyperpartisan', 'bias']]\n",
    "\n",
    "df.head()"
   ]
  },
  {
   "cell_type": "code",
   "execution_count": 12,
   "metadata": {},
   "outputs": [
    {
     "data": {
      "text/html": [
       "<div>\n",
       "<style scoped>\n",
       "    .dataframe tbody tr th:only-of-type {\n",
       "        vertical-align: middle;\n",
       "    }\n",
       "\n",
       "    .dataframe tbody tr th {\n",
       "        vertical-align: top;\n",
       "    }\n",
       "\n",
       "    .dataframe thead th {\n",
       "        text-align: right;\n",
       "    }\n",
       "</style>\n",
       "<table border=\"1\" class=\"dataframe\">\n",
       "  <thead>\n",
       "    <tr style=\"text-align: right;\">\n",
       "      <th></th>\n",
       "      <th>title</th>\n",
       "      <th>text</th>\n",
       "      <th>hyperpartisan</th>\n",
       "      <th>bias</th>\n",
       "      <th>clean_text</th>\n",
       "    </tr>\n",
       "  </thead>\n",
       "  <tbody>\n",
       "    <tr>\n",
       "      <th>0</th>\n",
       "      <td>How Hurricane Harvey will ripple through the U...</td>\n",
       "      <td>&lt;p&gt;Hurricane Harvey will distort measures of t...</td>\n",
       "      <td>True</td>\n",
       "      <td>0</td>\n",
       "      <td>hurricane harvey distort measures us economy w...</td>\n",
       "    </tr>\n",
       "    <tr>\n",
       "      <th>1</th>\n",
       "      <td>Hurricane Earl Weakens to Tropical Storm After...</td>\n",
       "      <td>&lt;p&gt;A storm system that had been a hurricane wh...</td>\n",
       "      <td>False</td>\n",
       "      <td>3</td>\n",
       "      <td>storm system hurricane roared ashore belize ea...</td>\n",
       "    </tr>\n",
       "    <tr>\n",
       "      <th>2</th>\n",
       "      <td>Manhunt On for Revenge-Seeking Ex-LAPD Officer...</td>\n",
       "      <td>&lt;p&gt;Thousands of police officers in Southern Ca...</td>\n",
       "      <td>True</td>\n",
       "      <td>4</td>\n",
       "      <td>thousands police officers southern california ...</td>\n",
       "    </tr>\n",
       "    <tr>\n",
       "      <th>3</th>\n",
       "      <td>US judge seeks internal communications in Turk...</td>\n",
       "      <td>&lt;p&gt;NEW YORK (AP) &amp;#8212; A federal judge wants...</td>\n",
       "      <td>False</td>\n",
       "      <td>2</td>\n",
       "      <td>new york ap #8212 federal judge wants lawyers ...</td>\n",
       "    </tr>\n",
       "    <tr>\n",
       "      <th>4</th>\n",
       "      <td>How To Stick With Emerging Markets If The Doll...</td>\n",
       "      <td>&lt;p&gt;No, it is not a coincidence. The U.S. Dolla...</td>\n",
       "      <td>True</td>\n",
       "      <td>0</td>\n",
       "      <td>coincidence us dollar index 46 percent yeartod...</td>\n",
       "    </tr>\n",
       "  </tbody>\n",
       "</table>\n",
       "</div>"
      ],
      "text/plain": [
       "                                               title  \\\n",
       "0  How Hurricane Harvey will ripple through the U...   \n",
       "1  Hurricane Earl Weakens to Tropical Storm After...   \n",
       "2  Manhunt On for Revenge-Seeking Ex-LAPD Officer...   \n",
       "3  US judge seeks internal communications in Turk...   \n",
       "4  How To Stick With Emerging Markets If The Doll...   \n",
       "\n",
       "                                                text  hyperpartisan  bias  \\\n",
       "0  <p>Hurricane Harvey will distort measures of t...           True     0   \n",
       "1  <p>A storm system that had been a hurricane wh...          False     3   \n",
       "2  <p>Thousands of police officers in Southern Ca...           True     4   \n",
       "3  <p>NEW YORK (AP) &#8212; A federal judge wants...          False     2   \n",
       "4  <p>No, it is not a coincidence. The U.S. Dolla...           True     0   \n",
       "\n",
       "                                          clean_text  \n",
       "0  hurricane harvey distort measures us economy w...  \n",
       "1  storm system hurricane roared ashore belize ea...  \n",
       "2  thousands police officers southern california ...  \n",
       "3  new york ap #8212 federal judge wants lawyers ...  \n",
       "4  coincidence us dollar index 46 percent yeartod...  "
      ]
     },
     "execution_count": 12,
     "metadata": {},
     "output_type": "execute_result"
    }
   ],
   "source": [
    "# text preprocessing\n",
    "df['clean_text'] = df['text'].apply(lambda x:text_preprocess(x))\n",
    "df.head()"
   ]
  },
  {
   "cell_type": "code",
   "execution_count": 13,
   "metadata": {},
   "outputs": [
    {
     "data": {
      "text/plain": [
       "array(['hurricane harvey distort measures us economy weeks months ahead making difficult economists policy makers gauge trajectory sensitive time federal reserve everything jobless claims already surged report thursday gross domestic product inflation knocked course brief spikes across wide range reports economists say impact hurricane irma could devastate cities across southeast continue reading hard discern whether bad reports result storm damage whether good reports owe effects rebuilding fed already struggling conflicting signals decides path rate rises must look even greater volatility inflation reports could well 2018 effects storms fully washed economic data forecasters wall street journals survey economists expect storm reduce pace job gains 27 000 jobs month third quarter average followed little change fourth quarter boost 13 000 first quarter 2018 many people find work rebuilding fed policy makers watch job growth closely signs whether labor market tightening economists also expect growth rate gross domestic product broadest measure goods services produced across economy fall 03 percentage points third quarter followed effect fourth quarter 02percentagepoint boost first quarter 2018 devastation surrounding houston area americas fourthlargest city significant enough negatively impact activity employment nationally said chad moutray chief economist national association manufacturers longer run storm isnt expected lasting economic effect forecasts gdp unemployment inflation major economic indicators unchanged 2018 overall according survey 56 business financial academic economists sept 1 sept 5 months ahead economists say watch storms distortions advertisement jobless claims early evidence hurricanes impact us job market came thursday labor department reported largest oneweek jump initial jobless claims since aftermath superstorm sandy november 2012 likely beginning spike unemployment filings weeks hurricane katrina 2005 sandy 2012 jobless claims highest week storm two weeks many work hurricane waited storm passed file claims compared week storm initial jobless claims rose 23 second week superstorm sandy 30 second week hurricane katrina irmas right behind harvey could cause claims spike said ryan sweet director realtime economics moodys analytics inflation measures inflation soon reflect harvey gasoline prices spiking due disruptions oil refineries houston area national average gas price 266 gallon wednesday according aaa 235 month ago denton cinquegrana chief oil analyst oil price information service sees gas prices peaking near 275 leveling energy prices make 7 consumerprice index motor fuel accounting nearly half already move gas prices could raise inflation rate key area focus fed policy makers 05 past major storms effect faded within months added volatility could sharpen feds focus core measures inflation exclude food energy consumer spending gas prices consumers across country less cash everything else every penny increase gasoline prices reduces consumer spending 1 billion course year according mr sweet moodys consumers going feel pocket mr sweet said consumerspending measures may also show impact houston shuttered long city nearly three million workers produces 500 billion year gross domestic product nonnegligible economic impact assuming 25 houston area output idled seven days said gregory daco chief us economist oxford economics housing storm texas track 14 increase housing starts year according james gaines chief economist real estate center texas aamp amp university 2016 houston alone accounted 4 nations permitted housing builders wait assess market construction sites dry compete workers rebuild repair city household wealth destruction homes businesses doesnt show gdp figures would show measures household wealth many homeowners businesses swamped storm didnt carry flood insurance meaning large share 100 billion estimated damage could reduce household wealth many homeowners uninsured akin wipeout assets one would expect stockmarket crash said constance hunter chief economist kpmg accounting firm effects negative widespread 19 trillion economy 150 million workers many effects hard tell apart usual churning large nation economic indicators measure much storms effect ultimately impact individual lives dwarf economic dollar losses said lynn reaser former bank america economist professor point loma nazarene university san diego laura kusisto contributed article write josh zumbrun joshzumbrun wsjcom sarah chaney sarahchaney wsjcom end dow jones newswires september 07 2017 1619 et 2019 gmt',\n",
       "       'storm system hurricane roared ashore belize early thursday weakened tropical storm moves inland still damaged cars forced hundreds seek shelter officials said tropical storm earl bringing heavy rainfall moved northwestern guatemala southeastern mexico thursday national hurricane center said winds dropped 40 mph 80 mph day whole lot scarier thought philip gray church member birmingham alabama staying belize city told reuters wind strong saw air conditioners roof coming apart dangerous reports deaths hurricane made landfall belize around 2 national emergency management organization said #8220 major infrastructure building damage#8221 many roads blocked hundreds people sheltered belize city parts honduras overnight local authorities said damage belize city concentrated impoverished areas residents seen early day attempting repairs amid flood waters guatemala bridge collapsed melchor de mencos near belize border belize gave clear 9 country#8217 philip goldson international airport belize city shut ahead hurricane would resume operations thursday country#8217 emergency management organization said storm southeastern mexico 40 miles southeast ciudad del carmen moving west 10 mph 8 pm et thursday hurricane center said tropical storm warning issued mexicos northern coast near port city storm expected weaken saturday although weakened tropical storm could still bring foot rain parts belize guatemala southeastern mexico friday raising possibility lifethreatening flash floods mudslides hurricane center said hurricane center warned 18 inches rain could fall parts belize northern guatemala central part mexican state chiapas tropical storm weaker tropical wave blamed six deaths dominican republic approached belize storm sunday knocked power lines starting fire killed six passengers bus filled people returning beach hrefhttps weathercom storms hurricane news tropicalstormearlhurricanehondurasbelizeguatemalamexicothe weather channel reported',\n",
       "       'thousands police officers southern california nevada trying track former lapd officer allegedly shot killed three people revenge laid force suspect 33yearold christopher dorner remains large thursday morning police say dorner implicated killings hrefhttp laistcom 2013 02 07 christopher_dorners_manifesto_in_fuphp#8220 manifesto#8221 posted online week identifies potential targets name associated press via huffington post search dorner fired lapd 2008 making false statements began linked weekend killing one victims daughter former police captain represented disciplinary hearing authorities believe dorner opened fire early thursday police cities east los angeles killing officer wounding another #8230 facebook post dorner said knew would vilified lapd news media #8220 unfortunately necessary evil enjoy must partake complete substantial change occur within lapd reclaim name#8221 police searched packed los angeles area edge nearly 10 000member lapd dispatched many officers protect potential targets department also pulled officers motorcycle duty fearing would make easy targets hrefhttp wwwhuffingtonpostcom 2013 02 07 christopherdornermanhuntlosangeles_n_2638023htmlread unfortunately browser support iframes',\n",
       "       'new york ap #8212 federal judge wants lawyers case involving billiondollar scheme evade american sanctions iran detail communications us turkish governments brief order filed federal court manhattan thursday us district judge richard berman directed government defense attorneys include information sentencing memos us prosecution resulted guilty plea reza zarrab wealthy turkishiranian businessman conviction turkish banker case raised tensions us turkey officials called charade aimed discrediting government president recep tayyip erdogan order asks description #8220 meetings calls texts emails etc counsel including turkish counsel officials united states turkish governments relating prosecution disposition case#8221 order didn#8217 indicate whether request related attempts two wellconnected american lawyers #8212 rudolph giuliani former new york city mayor michael b mukasey former attorney general president george w bush#8217 administration #8212 broker prisoner exchange turkey win zarrab#8217 release case went trial two met erdogan also discussed matter officials president donald trump#8217 administration talks failed produce deal us attorney#8217 office lawyer zarrab benjamin brafman declined comment thursday immediate response requests comment lawyers banker mehmet hakkan atilla part plea deal zarrab ended testifying atilla former deputy general manager turkey#8217 statecontrolled halkbank jury found atilla guilty month conspiracies violate us sanctions law defraud us commit money laundering bank fraud attila set sentenced april 11 zarrab#8217 sentencing hasn#8217 scheduled new york ap #8212 federal judge wants lawyers case involving billiondollar scheme evade american sanctions iran detail communications us turkish governments brief order filed federal court manhattan thursday us district judge richard berman directed government defense attorneys include information sentencing memos us prosecution resulted guilty plea reza zarrab wealthy turkishiranian businessman conviction turkish banker case raised tensions us turkey officials called charade aimed discrediting government president recep tayyip erdogan order asks description #8220 meetings calls texts emails etc counsel including turkish counsel officials united states turkish governments relating prosecution disposition case#8221 order didn#8217 indicate whether request related attempts two wellconnected american lawyers #8212 rudolph giuliani former new york city mayor michael b mukasey former attorney general president george w bush#8217 administration #8212 broker prisoner exchange turkey win zarrab#8217 release case went trial two met erdogan also discussed matter officials president donald trump#8217 administration talks failed produce deal us attorney#8217 office lawyer zarrab benjamin brafman declined comment thursday immediate response requests comment lawyers banker mehmet hakkan atilla part plea deal zarrab ended testifying atilla former deputy general manager turkey#8217 statecontrolled halkbank jury found atilla guilty month conspiracies violate us sanctions law defraud us commit money laundering bank fraud attila set sentenced april 11 zarrab#8217 sentencing hasn#8217 scheduled',\n",
       "       'coincidence us dollar index 46 percent yeartodate msci emerging markets index slightly higher greenbacks slide spanning multiple months currency market participants expecting dollar rebound scenario comes pass necessarily mean bad news emerging markets relevant exchangetraded funds fact wisdomtree strong dollar emerging markets equity fund bats emsd uniquely positioned withstand even thrive dollar rallies continue reading etfs attempted isolate developed markets companies positioned benefit favorable emerging markets growth trends wisdomtree strong dollar emerging markets equity fund goes way etf follows wisdomtree strong dollar emerging markets equity index wtemsd benchmark includes emerging markets firms depend united states least 15 percent revenue related link hrefhttp wwwbenzingacom markets futures 16 05 8001846 usdollarindexlittlehigheraheadoffedminutesus dollar index little higher ahead fed minutes opens new window emsds potential firm possibly winner dollar resumes currency leadership role much excluded etf includes design wtemsd avoids hrefhttp wwwwisdomtreecom blog indexphp glossary #leverageleveraged opens new window sectors financials telecommunication services utilities risk stronger us dollar debt denominated us dollars becoming harder pay back weakening currencies well commodity sectors energy materials also tend impacted rising dollar said wisdomtree hrefhttp wwwwisdomtreecom blog indexphp thebricsaredeadlonglivethetickssaysfinancialtimes note tuesday opens new window advertisement excluding aforementioned sectors particularly financials telecom utilities means emsd significantly less exposed stateowned enterprises soes many traditional emerging markets etfs related link hrefhttp wwwbenzingacom tradingideas longideas 16 04 7895597 wisdomtreeunveilsbigexpansiontofixedincomeetflineupwisdomtree unveils big expansion fixed income etf lineup opens new window conversely etf exposed compelling emerging markets themes consumer technology look emsds top 10 holdings include samsung samsung electronic krw5000 otcssnlf hyundai motor hyundai motor co krw5000 otchymlf lg display co ltd adr nyselpl indicate many americans already consumers products made companies etfs lineup nearly 80 percent emsds geographic weight allocated taiwan south korea india speaks funds dollar sensitivity countries net commodities importers meaning local equities markets often pinched commodities prices rise 2016 benzingacom benzinga provide investment advice rights reserved'],\n",
       "      dtype=object)"
      ]
     },
     "metadata": {},
     "output_type": "display_data"
    },
    {
     "data": {
      "text/plain": [
       "0    0\n",
       "1    3\n",
       "2    4\n",
       "3    2\n",
       "4    0\n",
       "Name: bias, dtype: int64"
      ]
     },
     "metadata": {},
     "output_type": "display_data"
    }
   ],
   "source": [
    "# displaying the X and y values\n",
    "X = df.iloc()[:,-1].values\n",
    "y = df.iloc()[:,-2]\n",
    "display(X[:5],y[:5])"
   ]
  },
  {
   "cell_type": "code",
   "execution_count": 14,
   "metadata": {},
   "outputs": [
    {
     "data": {
      "text/plain": [
       "{0: 'right', 1: 'right-center', 2: 'neutral', 3: 'left-center', 4: 'left'}"
      ]
     },
     "execution_count": 14,
     "metadata": {},
     "output_type": "execute_result"
    }
   ],
   "source": [
    "# mapping dictionary for bias values\n",
    "mapping_dict = {0: \"right\", 1: \"right-center\", 2: \"neutral\", 3: \"left-center\", 4:\"left\"}\n",
    "mapping_dict"
   ]
  },
  {
   "cell_type": "code",
   "execution_count": 16,
   "metadata": {},
   "outputs": [],
   "source": [
    "# train-test split\n",
    "Xtrain,Xtest,Ytrain,Ytest = train_test_split(X,y,test_size=0.2,random_state=0,stratify=y)"
   ]
  },
  {
   "cell_type": "code",
   "execution_count": 17,
   "metadata": {},
   "outputs": [
    {
     "data": {
      "text/plain": [
       "<40000x432548 sparse matrix of type '<class 'numpy.float64'>'\n",
       "\twith 14750194 stored elements in Compressed Sparse Row format>"
      ]
     },
     "execution_count": 17,
     "metadata": {},
     "output_type": "execute_result"
    }
   ],
   "source": [
    "# generating tf-idf features\n",
    "X_train_tfidf, X_test_tfidf, tfidf_vocab, vectorizer = tfidf_features(Xtrain, Xtest)\n",
    "tfidf_reversed_vocab = {i:word for word,i in tfidf_vocab.items()}\n",
    "X_train_tfidf"
   ]
  },
  {
   "cell_type": "markdown",
   "metadata": {},
   "source": [
    "### LightGBM Multi-class Classification WITHOUT Focal Loss"
   ]
  },
  {
   "cell_type": "code",
   "execution_count": 18,
   "metadata": {},
   "outputs": [],
   "source": [
    "# converting the dataset to proper LGB format\n",
    "d_train = lgb.Dataset(X_train_tfidf, label=Ytrain)"
   ]
  },
  {
   "cell_type": "code",
   "execution_count": 20,
   "metadata": {},
   "outputs": [],
   "source": [
    "# setting up the parameters\n",
    "params={}\n",
    "params['learning_rate']=0.03\n",
    "params['boosting_type']='gbdt' # GradientBoostingDecisionTree\n",
    "params['objective']='multiclass' # Multi-class target feature\n",
    "params['metric']='multi_logloss' # metric for multi-class\n",
    "params['max_depth']=15\n",
    "params['num_class']=5 # no.of unique values in the target class not inclusive of the end value"
   ]
  },
  {
   "cell_type": "code",
   "execution_count": 21,
   "metadata": {},
   "outputs": [
    {
     "name": "stdout",
     "output_type": "stream",
     "text": [
      "[LightGBM] [Warning] Accuracy may be bad since you didn't explicitly set num_leaves OR 2^max_depth > num_leaves. (num_leaves=31).\n",
      "[LightGBM] [Warning] Accuracy may be bad since you didn't explicitly set num_leaves OR 2^max_depth > num_leaves. (num_leaves=31).\n",
      "[LightGBM] [Warning] Auto-choosing col-wise multi-threading, the overhead of testing was 12.614984 seconds.\n",
      "You can set `force_col_wise=true` to remove the overhead.\n",
      "[LightGBM] [Info] Total Bins 2695088\n",
      "[LightGBM] [Info] Number of data points in the train set: 40000, number of used features: 80259\n",
      "[LightGBM] [Info] Start training from score -1.384097\n",
      "[LightGBM] [Info] Start training from score -2.631089\n",
      "[LightGBM] [Info] Start training from score -1.178143\n",
      "[LightGBM] [Info] Start training from score -2.145795\n",
      "[LightGBM] [Info] Start training from score -1.375849\n",
      "CPU times: user 35min 37s, sys: 14min 7s, total: 49min 45s\n",
      "Wall time: 9min 16s\n"
     ]
    }
   ],
   "source": [
    "%%time\n",
    "# training the model for 100 epochs\n",
    "clf=lgb.train(params,d_train,100)"
   ]
  },
  {
   "cell_type": "code",
   "execution_count": 22,
   "metadata": {},
   "outputs": [
    {
     "data": {
      "text/plain": [
       "array([[0.97039466, 0.00933982, 0.00521152, 0.00569622, 0.00935779],\n",
       "       [0.22016345, 0.2378346 , 0.14958948, 0.06105482, 0.33135765],\n",
       "       [0.98945738, 0.00108094, 0.00416553, 0.00180167, 0.00349448],\n",
       "       ...,\n",
       "       [0.16756673, 0.01453756, 0.05340666, 0.65859444, 0.10589461],\n",
       "       [0.989022  , 0.00132361, 0.00436816, 0.00186348, 0.00342274],\n",
       "       [0.01344751, 0.00675224, 0.9545743 , 0.00521855, 0.02000741]])"
      ]
     },
     "execution_count": 22,
     "metadata": {},
     "output_type": "execute_result"
    }
   ],
   "source": [
    "# prediction on the test dataset\n",
    "y_pred_1=clf.predict(X_test_tfidf)\n",
    "y_pred_1"
   ]
  },
  {
   "cell_type": "code",
   "execution_count": 23,
   "metadata": {},
   "outputs": [],
   "source": [
    "# argmax() method \n",
    "y_pred_1 = [np.argmax(line) for line in y_pred_1]\n",
    "#y_pred_1"
   ]
  },
  {
   "cell_type": "code",
   "execution_count": 24,
   "metadata": {},
   "outputs": [
    {
     "data": {
      "text/plain": [
       "0.8610286895696987"
      ]
     },
     "execution_count": 24,
     "metadata": {},
     "output_type": "execute_result"
    }
   ],
   "source": [
    "# using precision score for error metrics\n",
    "precision_score(y_pred_1,Ytest,average=None).mean()"
   ]
  },
  {
   "cell_type": "code",
   "execution_count": 25,
   "metadata": {},
   "outputs": [],
   "source": [
    "import itertools\n",
    "import matplotlib.pyplot as plt\n",
    "\n",
    "# plotting confusion matrix\n",
    "def plot_confusion_matrix(cm, classes, normalize=False, title='Confusion matrix', cmap=plt.cm.Blues):\n",
    "    if normalize:\n",
    "        cm = cm.astype('float') / cm.sum(axis=1)[:, np.newaxis]\n",
    "        print(\"Normalized confusion matrix\")\n",
    "    else:\n",
    "        print('Confusion matrix, without normalization')\n",
    "\n",
    "    print(cm)\n",
    "\n",
    "    plt.imshow(cm, interpolation='nearest', cmap=cmap)\n",
    "    plt.title(title)\n",
    "    plt.colorbar()\n",
    "    tick_marks = np.arange(len(classes))\n",
    "    plt.xticks(tick_marks, classes, rotation=45)\n",
    "    plt.yticks(tick_marks, classes)\n",
    "\n",
    "    fmt = '.3f' if normalize else 'd'\n",
    "    thresh = cm.max() / 2.\n",
    "    for i, j in itertools.product(range(cm.shape[0]), range(cm.shape[1])):\n",
    "        plt.text(j, i, format(cm[i, j], fmt),\n",
    "                 horizontalalignment=\"center\",\n",
    "                 color=\"white\" if cm[i, j] > thresh else \"black\")\n",
    "\n",
    "    plt.tight_layout()\n",
    "    plt.ylabel('True label')\n",
    "    plt.xlabel('Predicted label')"
   ]
  },
  {
   "cell_type": "code",
   "execution_count": 26,
   "metadata": {},
   "outputs": [
    {
     "name": "stdout",
     "output_type": "stream",
     "text": [
      "['right', 'right-center', 'neutral', 'left-center', 'left'] [0 1 2 3 4]\n"
     ]
    }
   ],
   "source": [
    "classes=[]\n",
    "# unique labels (1...4)\n",
    "labels = np.unique(y)\n",
    "\n",
    "# respective label names\n",
    "labels_names = list(mapping_dict.values())\n",
    "for v in labels_names:\n",
    "    classes.append(v)\n",
    "print(classes, labels)"
   ]
  },
  {
   "cell_type": "code",
   "execution_count": 27,
   "metadata": {},
   "outputs": [
    {
     "name": "stdout",
     "output_type": "stream",
     "text": [
      "Prediction accuracy 0.8886  recall  0.8610286895696987\n",
      "Normalized confusion matrix\n",
      "[[0.85514765 0.00438947 0.00239425 0.01276935 0.12529928]\n",
      " [0.02638889 0.825      0.00277778 0.025      0.12083333]\n",
      " [0.00097434 0.         0.9425138  0.00714518 0.04936668]\n",
      " [0.01710864 0.00171086 0.01112062 0.73909324 0.23096664]\n",
      " [0.02573238 0.00316706 0.00831354 0.01939826 0.94338876]]\n"
     ]
    },
    {
     "data": {
      "image/png": "[encoded data removed]",
      "text/plain": [
       "<Figure size 432x288 with 2 Axes>"
      ]
     },
     "metadata": {
      "needs_background": "light"
     },
     "output_type": "display_data"
    }
   ],
   "source": [
    "from sklearn.metrics import recall_score,accuracy_score,confusion_matrix,roc_auc_score\n",
    "\n",
    "pred_accuracy_score = accuracy_score(Ytest, y_pred_1)\n",
    "pred_recall_score = recall_score(Ytest, y_pred_1, average='macro')\n",
    "print('Prediction accuracy', pred_accuracy_score,' recall ', pred_recall_score)\n",
    "\n",
    "cnf_matrix = confusion_matrix(Ytest, y_pred_1, labels=labels)\n",
    "plot_confusion_matrix(cnf_matrix, classes=classes,normalize=True,  title='Confusion matrix')"
   ]
  },
  {
   "cell_type": "markdown",
   "metadata": {},
   "source": [
    "#####  Without Focal Loss, the results seem good enough.\n",
    "##### LightGBM stands tall on its own merits."
   ]
  },
  {
   "cell_type": "markdown",
   "metadata": {},
   "source": [
    "### LightGBM Multi-class Classification WITH Focal Loss"
   ]
  },
  {
   "cell_type": "code",
   "execution_count": 30,
   "metadata": {},
   "outputs": [
    {
     "data": {
      "text/plain": [
       "array([0, 4, 0, ..., 3, 0, 2])"
      ]
     },
     "metadata": {},
     "output_type": "display_data"
    },
    {
     "name": "stdout",
     "output_type": "stream",
     "text": [
      "prediction accuracy 0.9105  recall  0.8870261624339731  precision  0.9166075024338429\n",
      "Normalized confusion matrix\n",
      "[[0.8886672  0.0027933  0.00319234 0.01636073 0.08898643]\n",
      " [0.03611111 0.83333333 0.00833333 0.0375     0.08472222]\n",
      " [0.00129912 0.00097434 0.95582981 0.00746996 0.03442676]\n",
      " [0.01967494 0.00171086 0.01368691 0.81351583 0.15141146]\n",
      " [0.02573238 0.00197941 0.00831354 0.02019002 0.94378464]]\n",
      "CPU times: user 8.2 s, sys: 7.24 s, total: 15.4 s\n",
      "Wall time: 10min 1s\n"
     ]
    },
    {
     "data": {
      "image/png": "[encoded data removed]",
      "text/plain": [
       "<Figure size 432x288 with 2 Axes>"
      ]
     },
     "metadata": {
      "needs_background": "light"
     },
     "output_type": "display_data"
    }
   ],
   "source": [
    "%%time\n",
    "from OneVsRestLightGBMWithCustomizedLoss import *\n",
    "from FocalLoss import FocalLoss\n",
    "\n",
    "# Instantiate Focal loss\n",
    "loss = FocalLoss(alpha=0.75, gamma=2.0)\n",
    "\n",
    "clf = OneVsRestLightGBMWithCustomizedLoss(loss=loss)\n",
    "\n",
    "# Using early stopping\n",
    "fit_params = {'eval_set': [(X_test_tfidf, Ytest)]}\n",
    "clf.fit(X_train_tfidf, Ytrain, **fit_params)\n",
    "\n",
    "y_test_pred = clf.predict(X_test_tfidf)\n",
    "# y_test_pred_prob = clf.predict_proba(X_test_tfidf)\n",
    "display(y_test_pred)\n",
    "\n",
    "pred_accuracy_score = accuracy_score(Ytest, y_test_pred)\n",
    "pred_precision_score = precision_score(Ytest, y_test_pred,average='macro')\n",
    "pred_recall_score = recall_score(Ytest, y_test_pred, average='macro')\n",
    "print('prediction accuracy', pred_accuracy_score,' recall ', pred_recall_score, ' precision ', pred_precision_score)\n",
    "\n",
    "cnf_matrix = confusion_matrix(Ytest, y_test_pred, labels=labels)\n",
    "plot_confusion_matrix(cnf_matrix, classes=classes,normalize=True,  title='Confusion matrix')"
   ]
  },
  {
   "cell_type": "markdown",
   "metadata": {},
   "source": [
    "##### With Focal Loss, performance shoots up. This model outperforms the one without customized loss."
   ]
  },
  {
   "cell_type": "code",
   "execution_count": 36,
   "metadata": {},
   "outputs": [
    {
     "data": {
      "text/plain": [
       "['right', 'right-center', 'neutral', 'left-center', 'left']"
      ]
     },
     "metadata": {},
     "output_type": "display_data"
    }
   ],
   "source": [
    "display(classes)\n",
    "with open('labels.npy', 'wb') as f:\n",
    "    np.save(f, classes)"
   ]
  },
  {
   "cell_type": "code",
   "execution_count": 37,
   "metadata": {},
   "outputs": [],
   "source": [
    "import pickle\n",
    "vec_file = 'vectorizer_LGBM_BiasDetection.pickle'\n",
    "pickle.dump(vectorizer, open(vec_file, 'wb'))\n",
    "\n",
    "# Saving the model with the Focal Loss\n",
    "mod_file = 'BiasDetection_LGBM.model'\n",
    "pickle.dump(clf, open(mod_file, 'wb'))"
   ]
  },
  {
   "cell_type": "markdown",
   "metadata": {},
   "source": [
    "### Loading the model from disk and predicting"
   ]
  },
  {
   "cell_type": "code",
   "execution_count": 2,
   "metadata": {},
   "outputs": [],
   "source": [
    "import pickle\n",
    "import re\n",
    "import bleach\n",
    "from nltk.corpus import stopwords\n",
    "\n",
    "# load the vectorizer\n",
    "loaded_vectorizer = pickle.load(open('vectorizer_LGBM_BiasDetection.pickle', 'rb'))\n",
    "\n",
    "# load the model\n",
    "loaded_model = pickle.load(open('BiasDetection_LGBM.model', 'rb'))\n",
    "\n",
    "def text_preprocess(text):\n",
    "    REPLACE_BY_SPACE_RE = re.compile('[/(){}\\[\\]\\|@,;]')\n",
    "    BAD_SYMBOLS_RE = re.compile('[^0-9a-z #+_]')\n",
    "    STOPWORDS = set(stopwords.words('english'))\n",
    "    REPLACE_IP_ADDRESS = re.compile(r'\\b(?:[0-9]{1,3}\\.){3}[0-9]{1,3}\\b')\n",
    "    text = bleach.clean(text,strip=True) # bleach clean\n",
    "    text = text.replace('<p>', '')\n",
    "    text = text.replace('</p>', '')\n",
    "    text = text.replace('\\n', '')\n",
    "    text = text.replace('&amp;#160;', '')\n",
    "    text = re.sub(r'^https?:\\/\\/.*[\\r\\n]*', '', text, flags=re.MULTILINE)\n",
    "    text = text.replace('\\n', ' ').lower()# lowercase text\n",
    "    text = REPLACE_IP_ADDRESS.sub('', text)\n",
    "    text = REPLACE_BY_SPACE_RE.sub(' ',text)# replace REPLACE_BY_SPACE_RE symbols by space in text\n",
    "    text = BAD_SYMBOLS_RE.sub('',text)# delete symbols which are in BAD_SYMBOLS_RE from text\n",
    "    text = ' '.join([w for w in text.split() if not w in STOPWORDS])# delete stopwords from text\n",
    "    return text\n",
    "\n",
    "def get_bias(utt):\n",
    "    # mapping dictionary\n",
    "    mapping_dict = {0: \"right\", 1: \"right-center\", 2: \"neutral\", 3: \"left-center\", 4:\"left\"}\n",
    "    \n",
    "    # make a prediction\n",
    "    prediction = loaded_model.predict(loaded_vectorizer.transform([utt]))\n",
    "    probability = loaded_model.predict_proba(loaded_vectorizer.transform([utt]))[0]\n",
    "    max_prob = max(probability)\n",
    "    result = mapping_dict.get(prediction[0])\n",
    "    print(' Class: ', result,'\\n', 'Class score: ' ,max_prob, '\\n','All probabilities: ', probability)"
   ]
  },
  {
   "cell_type": "code",
   "execution_count": 3,
   "metadata": {},
   "outputs": [
    {
     "name": "stdout",
     "output_type": "stream",
     "text": [
      " Class:  right \n",
      " Class score:  0.37257929489535824 \n",
      " All probabilities:  [0.37257929 0.13021111 0.08578945 0.19852425 0.2128959 ]\n"
     ]
    }
   ],
   "source": [
    "# testing\n",
    "# Source - Fox News\n",
    "\n",
    "text = '''\n",
    "Two women plead guilty to hate crime for attacking Trump supporters\n",
    "\n",
    "Delaware women accused of ripping MAGA hat from Trump supporter at DNC\n",
    "\n",
    "Two women who stole a \"Make America Great Again\" hat from a President Trump supporter at the Democratic National Convention have pleaded guilty to hate crimes in connection to the viral confrontation.\n",
    "\n",
    "Olivia Winslow and Camryn Amy were caught on video on Aug. 20 destroying Trump signs and snatching a red MAGA cap outside the DNC in Wilmington, Delaware, as Joe Biden gave his acceptance speech. \n",
    "\n",
    "The women, both of Wilmington, have pleaded guilty to charges of theft, child endangerment and hate crimes in the incident outside a restaurant at the Wilmington Riverfront, the Delaware News Journal reported Wednesday.\n",
    "\n",
    "Winslow and Amy will be sentenced in September. Prosecutors will not seek prison time and their attorneys said they agree that probation is the \"appropriate sentence\" in the case while declining further comment, the News Journal reported.\n",
    "\n",
    "Charges of assault, attempted assault and conspiracy were dropped as part of a plea deal struck Monday, according to the report.\n",
    "\n",
    "The footage, which was viewed more than 5 million times, was posted on Twitter by Students for Trump. Cops in Wilmington reportedly tracked down Winslow and Amy shortly after watching the clip.\n",
    "\n",
    "\"Are you destroying my property?\" an unidentified woman asks in the clip as Winslow and Amy tear up her Trump signs. The pair then turn their attention to a MAGA hat on the ground, the footage shows.\n",
    "\n",
    "\"Get it, Liv, get it,\" Amy tells Winslow.\n",
    "\n",
    "The woman’s son protests, saying \"That’s somebody else’s hat!\" as the women walk away, setting off a confrontation that included with a possible relative who is punched when he tried to get the cap back.\n",
    "\n",
    "Winslow and Amy double back to confront the boy’s mom, with Amy hitting her, the two-minute clip shows.\n",
    "'''\n",
    "\n",
    "text = text_preprocess(text)\n",
    "get_bias(text)"
   ]
  },
  {
   "cell_type": "code",
   "execution_count": null,
   "metadata": {},
   "outputs": [],
   "source": []
  },
  {
   "cell_type": "code",
   "execution_count": null,
   "metadata": {},
   "outputs": [],
   "source": []
  }
 ],
 "metadata": {
  "kernelspec": {
   "display_name": "Python 3",
   "language": "python",
   "name": "python3"
  }
 },
 "nbformat": 4,
 "nbformat_minor": 4
}
